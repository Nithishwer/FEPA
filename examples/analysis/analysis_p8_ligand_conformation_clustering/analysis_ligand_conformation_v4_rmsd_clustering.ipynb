{
 "cells": [
  {
   "cell_type": "code",
   "execution_count": 1,
   "id": "f057bce9",
   "metadata": {},
   "outputs": [
    {
     "name": "stderr",
     "output_type": "stream",
     "text": [
      "/biggin/b211/reub0138/miniforge3/envs/fepa/lib/python3.10/site-packages/tqdm/auto.py:21: TqdmWarning: IProgress not found. Please update jupyter and ipywidgets. See https://ipywidgets.readthedocs.io/en/stable/user_install.html\n",
      "  from .autonotebook import tqdm as notebook_tqdm\n",
      "/biggin/b211/reub0138/miniforge3/envs/fepa/lib/python3.10/site-packages/Bio/Application/__init__.py:39: BiopythonDeprecationWarning: The Bio.Application modules and modules relying on it have been deprecated.\n",
      "\n",
      "Due to the on going maintenance burden of keeping command line application\n",
      "wrappers up to date, we have decided to deprecate and eventually remove these\n",
      "modules.\n",
      "\n",
      "We instead now recommend building your command line and invoking it directly\n",
      "with the subprocess module.\n",
      "  warnings.warn(\n",
      "/biggin/b211/reub0138/miniforge3/envs/fepa/lib/python3.10/site-packages/MDAnalysis/analysis/hbonds/hbond_autocorrel.py:54: DeprecationWarning: This module was moved to MDAnalysis.analysis.hydrogenbonds.hbond_autocorrel; hbonds.hbond_autocorrel will be removed in 3.0.0.\n",
      "  warnings.warn(wmsg, category=DeprecationWarning)\n",
      "/biggin/b211/reub0138/miniforge3/envs/fepa/lib/python3.10/site-packages/gromacs/__init__.py:301: GromacsImportWarning: Some Gromacs commands were NOT found; maybe source GMXRC first? The following are missing:\n",
      "['release']\n",
      "\n",
      "  warnings.warn(\n"
     ]
    }
   ],
   "source": [
    "\"\"\"This script compares the overlap in the different holo states of the complexes\"\"\"\n",
    "\n",
    "import logging\n",
    "import os\n",
    "from fepa.core.ensemble_handler import EnsembleHandler\n",
    "from fepa.utils.file_utils import load_config\n",
    "from fepa.utils.path_utils import load_abfe_paths_for_compound, load_paths_for_compound\n",
    "from fepa.utils.md_utils import (\n",
    "    check_bp_residue_consistency,\n",
    ")\n",
    "from fepa.flows.torsions_flow import torsions_analysis_workflow\n",
    "from fepa.core.visualizers import (\n",
    "    DimRedVisualizer,\n",
    "    plot_eigenvalues,\n",
    "    compute_histograms,\n",
    "    plot_jsd_histograms,\n",
    "    plot_pca_components,\n",
    ")\n",
    "import mdaencore as encore\n",
    "from fepa.core.dim_reducers import PCADimReducer, UMAPDimReducer\n",
    "from fepa.utils.dimred_utils import cluster_pca\n",
    "from fepa.core.analyzers import compute_relative_entropy\n",
    "from fepa.utils.feature_utils import (\n",
    "    convert_features_df_w_components_to_angles,\n",
    "    convert_features_df_w_angles_to_w_components,\n",
    ")\n",
    "import seaborn as sns\n",
    "import re\n",
    "import matplotlib.pyplot as plt\n",
    "\n",
    "logging.basicConfig(\n",
    "    level=logging.INFO, format=\"%(asctime)s - %(levelname)s - %(message)s\"\n",
    ")\n",
    "\n",
    "\n",
    "# Load configuration\n",
    "config_path = os.path.join(\"../../config/config.json\")\n",
    "config = load_config(config_path)\n",
    "parent_output_dir = \"../../wdir/data/\"\n",
    "analysis_output_dir = os.path.join(\n",
    "    parent_output_dir, \"analysis_p6_comparing_ligand_binding_modes_w_components\"\n",
    ")\n",
    "if not os.path.exists(analysis_output_dir):\n",
    "    os.makedirs(analysis_output_dir)"
   ]
  },
  {
   "cell_type": "code",
   "execution_count": 2,
   "id": "4f0addbf",
   "metadata": {},
   "outputs": [
    {
     "name": "stderr",
     "output_type": "stream",
     "text": [
      "2025-04-27 16:48:29,927 - INFO - Path dict: {'42922_van_1': {'pdb': '/biggin/b211/reub0138/Projects/orexin/deflorian_set_1_j13_v1/OX2_42922/vanilla/npt.gro', 'xtc': '/biggin/b211/reub0138/Projects/orexin/deflorian_set_1_j13_v1/OX2_42922/vanilla/prod.xtc', 'tpr': '/biggin/b211/reub0138/Projects/orexin/deflorian_set_1_j13_v1/OX2_42922/vanilla/prod.tpr', 'bp_selection_string': 'name CA and resid 12  54  57  58  59  60  61  62  64  65  66  71  77  78  81  82  83  84  85  86  89  90  135  138  141  142  161  162  163  174  175  178  182  232  235  236  238  239  242  254  261  264  265  266  268  269'}, '42922_nvt': {'pdb': '/biggin/b211/reub0138/Projects/orexin/deflorian_set_1_j13_v1/OX2_42922/vanilla_rep_3/nvt.gro', 'xtc': '/biggin/b211/reub0138/Projects/orexin/deflorian_set_1_j13_v1/OX2_42922/vanilla_rep_3/nvt.xtc', 'tpr': '/biggin/b211/reub0138/Projects/orexin/deflorian_set_1_j13_v1/OX2_42922/vanilla_rep_3/nvt.tpr', 'bp_selection_string': 'name CA and resid 12  54  57  58  59  60  61  62  64  65  66  71  77  78  81  82  83  84  85  86  89  90  135  138  141  142  161  162  163  174  175  178  182  232  235  236  238  239  242  254  261  264  265  266  268  269'}, '42922_van_2': {'pdb': '/biggin/b211/reub0138/Projects/orexin/deflorian_set_1_j13_v1/OX2_42922/vanilla_rep_2/npt.gro', 'xtc': '/biggin/b211/reub0138/Projects/orexin/deflorian_set_1_j13_v1/OX2_42922/vanilla_rep_2/prod.xtc', 'tpr': '/biggin/b211/reub0138/Projects/orexin/deflorian_set_1_j13_v1/OX2_42922/vanilla_rep_2/prod.tpr', 'bp_selection_string': 'name CA and resid 12  54  57  58  59  60  61  62  64  65  66  71  77  78  81  82  83  84  85  86  89  90  135  138  141  142  161  162  163  174  175  178  182  232  235  236  238  239  242  254  261  264  265  266  268  269'}, '42922_van_3': {'pdb': '/biggin/b211/reub0138/Projects/orexin/deflorian_set_1_j13_v1/OX2_42922/vanilla_rep_3/npt.gro', 'xtc': '/biggin/b211/reub0138/Projects/orexin/deflorian_set_1_j13_v1/OX2_42922/vanilla_rep_3/prod.xtc', 'tpr': '/biggin/b211/reub0138/Projects/orexin/deflorian_set_1_j13_v1/OX2_42922/vanilla_rep_3/prod.tpr', 'bp_selection_string': 'name CA and resid 12  54  57  58  59  60  61  62  64  65  66  71  77  78  81  82  83  84  85  86  89  90  135  138  141  142  161  162  163  174  175  178  182  232  235  236  238  239  242  254  261  264  265  266  268  269'}}\n",
      "2025-04-27 16:48:29,933 - INFO - Gromacs version   : b'VERSION 2021.4'\n",
      "2025-04-27 16:48:29,933 - INFO - tpx version       : 122\n",
      "2025-04-27 16:48:29,933 - INFO - tpx generation    : 28\n",
      "2025-04-27 16:48:29,934 - INFO - tpx precision     : 4\n",
      "2025-04-27 16:48:29,934 - INFO - tpx file_tag      : b'release'\n",
      "2025-04-27 16:48:29,935 - INFO - tpx natoms        : 64578\n",
      "2025-04-27 16:48:29,935 - INFO - tpx ngtc          : 2\n",
      "2025-04-27 16:48:29,935 - INFO - tpx fep_state     : 0\n",
      "2025-04-27 16:48:29,935 - INFO - tpx lambda        : 0.0\n",
      "2025-04-27 16:48:30,328 - INFO - The attribute(s) masses, types have already been read from the topology file. The guesser will only guess empty values for this attribute, if any exists. To overwrite it by completely guessed values, you can pass the attribute to the force_guess parameter instead of the to_guess one\n",
      "2025-04-27 16:48:30,330 - INFO - There is no empty types values. Guesser did not guess any new values for types attribute\n",
      "2025-04-27 16:48:30,331 - INFO - There is no empty masses values. Guesser did not guess any new values for masses attribute\n",
      "2025-04-27 16:48:30,370 - INFO - Gromacs version   : b'VERSION 2023.1'\n",
      "2025-04-27 16:48:30,371 - INFO - tpx version       : 129\n",
      "2025-04-27 16:48:30,371 - INFO - tpx generation    : 28\n",
      "2025-04-27 16:48:30,372 - INFO - tpx precision     : 4\n",
      "2025-04-27 16:48:30,372 - INFO - tpx file_tag      : b'release'\n",
      "2025-04-27 16:48:30,372 - INFO - tpx natoms        : 64578\n",
      "2025-04-27 16:48:30,373 - INFO - tpx ngtc          : 2\n",
      "2025-04-27 16:48:30,373 - INFO - tpx fep_state     : 0\n",
      "2025-04-27 16:48:30,373 - INFO - tpx lambda        : 0.0\n",
      "2025-04-27 16:48:30,947 - INFO - The attribute(s) masses, types have already been read from the topology file. The guesser will only guess empty values for this attribute, if any exists. To overwrite it by completely guessed values, you can pass the attribute to the force_guess parameter instead of the to_guess one\n",
      "2025-04-27 16:48:30,949 - INFO - There is no empty types values. Guesser did not guess any new values for types attribute\n",
      "2025-04-27 16:48:30,949 - INFO - There is no empty masses values. Guesser did not guess any new values for masses attribute\n",
      "2025-04-27 16:48:30,988 - INFO - Gromacs version   : b'VERSION 2023.1'\n",
      "2025-04-27 16:48:30,989 - INFO - tpx version       : 129\n",
      "2025-04-27 16:48:30,989 - INFO - tpx generation    : 28\n",
      "2025-04-27 16:48:30,989 - INFO - tpx precision     : 4\n",
      "2025-04-27 16:48:30,990 - INFO - tpx file_tag      : b'release'\n",
      "2025-04-27 16:48:30,990 - INFO - tpx natoms        : 64578\n",
      "2025-04-27 16:48:30,990 - INFO - tpx ngtc          : 2\n",
      "2025-04-27 16:48:30,990 - INFO - tpx fep_state     : 0\n",
      "2025-04-27 16:48:30,991 - INFO - tpx lambda        : 0.0\n",
      "2025-04-27 16:48:31,392 - INFO - The attribute(s) masses, types have already been read from the topology file. The guesser will only guess empty values for this attribute, if any exists. To overwrite it by completely guessed values, you can pass the attribute to the force_guess parameter instead of the to_guess one\n",
      "2025-04-27 16:48:31,398 - INFO - There is no empty types values. Guesser did not guess any new values for types attribute\n",
      "2025-04-27 16:48:31,399 - INFO - There is no empty masses values. Guesser did not guess any new values for masses attribute\n",
      "2025-04-27 16:48:31,437 - INFO - Gromacs version   : b'VERSION 2023.1'\n",
      "2025-04-27 16:48:31,438 - INFO - tpx version       : 129\n",
      "2025-04-27 16:48:31,438 - INFO - tpx generation    : 28\n",
      "2025-04-27 16:48:31,438 - INFO - tpx precision     : 4\n",
      "2025-04-27 16:48:31,439 - INFO - tpx file_tag      : b'release'\n",
      "2025-04-27 16:48:31,439 - INFO - tpx natoms        : 64578\n",
      "2025-04-27 16:48:31,439 - INFO - tpx ngtc          : 2\n",
      "2025-04-27 16:48:31,439 - INFO - tpx fep_state     : 0\n",
      "2025-04-27 16:48:31,439 - INFO - tpx lambda        : 0.0\n",
      "2025-04-27 16:48:31,957 - INFO - The attribute(s) masses, types have already been read from the topology file. The guesser will only guess empty values for this attribute, if any exists. To overwrite it by completely guessed values, you can pass the attribute to the force_guess parameter instead of the to_guess one\n",
      "2025-04-27 16:48:31,959 - INFO - There is no empty types values. Guesser did not guess any new values for types attribute\n",
      "2025-04-27 16:48:31,960 - INFO - There is no empty masses values. Guesser did not guess any new values for masses attribute\n",
      "2025-04-27 16:48:31,998 - INFO - All files are consistent!\n"
     ]
    },
    {
     "data": {
      "text/plain": [
       "True"
      ]
     },
     "execution_count": 2,
     "metadata": {},
     "output_type": "execute_result"
    }
   ],
   "source": [
    "# Creating van_list and leg_window_list\n",
    "# van_list = [i for i in range(1, 4)]\n",
    "# leg_window_list = (\n",
    "#     [f\"coul.{i:02}\" for i in range(0, 4)]\n",
    "# [f\"coul.{i:02}\" for i in range(0, 11)]\n",
    "# + [f\"vdw.{i:02}\" for i in range(0, 12)]\n",
    "# + [f\"rest.{i:02}\" for i in range(0, 11)]\n",
    "# )\n",
    "# cmps_of_interest = [\"48951\", \"47594\", \"49599\", \"52542\", \"47821\"]\n",
    "# Prepare paths\n",
    "# path_dict = load_abfe_paths_for_compound(\n",
    "#     config,\n",
    "#     cmp=\"42922\",\n",
    "#     bp_selection_string=\"name CA and resid \" + config[\"pocket_residues_string\"],\n",
    "#     van_list=van_list,\n",
    "#     leg_window_list=leg_window_list,\n",
    "#     apo=False,\n",
    "# )\n",
    "path_dict = load_paths_for_compound(\n",
    "    config,\n",
    "    cmp=\"42922\",\n",
    "    bp_selection_string=\"name CA and resid \" + config[\"pocket_residues_string\"],\n",
    "    apo=False,\n",
    ")\n",
    "logging.info(\"Path dict: %s\", path_dict)\n",
    "# Load trajectories\n",
    "ensemble_handler = EnsembleHandler(path_dict)\n",
    "ensemble_handler.make_universes()\n",
    "check_bp_residue_consistency(ensemble_handler.get_universe_dict())"
   ]
  },
  {
   "cell_type": "code",
   "execution_count": 3,
   "id": "dc0add9b",
   "metadata": {},
   "outputs": [
    {
     "name": "stderr",
     "output_type": "stream",
     "text": [
      "2025-04-27 16:48:50,773 - INFO - Gromacs version   : b'VERSION 2021.4'\n",
      "2025-04-27 16:48:50,773 - INFO - tpx version       : 122\n",
      "2025-04-27 16:48:50,773 - INFO - tpx generation    : 28\n",
      "2025-04-27 16:48:50,774 - INFO - tpx precision     : 4\n",
      "2025-04-27 16:48:50,774 - INFO - tpx file_tag      : b'release'\n",
      "2025-04-27 16:48:50,774 - INFO - tpx natoms        : 64578\n",
      "2025-04-27 16:48:50,775 - INFO - tpx ngtc          : 2\n",
      "2025-04-27 16:48:50,775 - INFO - tpx fep_state     : 0\n",
      "2025-04-27 16:48:50,775 - INFO - tpx lambda        : 0.0\n",
      "2025-04-27 16:48:51,173 - INFO - The attribute(s) masses, types have already been read from the topology file. The guesser will only guess empty values for this attribute, if any exists. To overwrite it by completely guessed values, you can pass the attribute to the force_guess parameter instead of the to_guess one\n",
      "2025-04-27 16:48:51,175 - INFO - There is no empty types values. Guesser did not guess any new values for types attribute\n",
      "2025-04-27 16:48:51,175 - INFO - There is no empty masses values. Guesser did not guess any new values for masses attribute\n",
      "2025-04-27 16:48:51,176 - INFO -         Perform pairwise alignment: True\n",
      "2025-04-27 16:48:51,176 - INFO -         weighted alignment and RMSD: Mass\n",
      "2025-04-27 16:48:51,176 - INFO -         Atoms subset for alignment: resname unk\n",
      "2025-04-27 16:48:51,177 - INFO -     Calculating similarity matrix . . .\n",
      "2025-04-27 16:50:49,653 - INFO -     Done!\n",
      "2025-04-27 16:50:49,656 - INFO - Preference -1.00: starting Affinity Propagation\n",
      "2025-04-27 16:50:51,518 - INFO - Preference -1.00: converged in 141 iterations\n"
     ]
    },
    {
     "name": "stdout",
     "output_type": "stream",
     "text": [
      "<ClusterCollection with 77 clusters>\n"
     ]
    }
   ],
   "source": [
    "# Using the flow\n",
    "sel = \"resname unk\"\n",
    "universe_dict = ensemble_handler.get_universe_dict()\n",
    "universe_list = list(universe_dict.values())\n",
    "names_list = list(universe_dict.keys())\n",
    "# Cluster the binding poses\n",
    "cluster_collection = encore.cluster(\n",
    "    ensembles=universe_list, select=sel, superimposition_subset=sel\n",
    ")\n",
    "print(cluster_collection)"
   ]
  },
  {
   "cell_type": "code",
   "execution_count": null,
   "id": "4213a8b3",
   "metadata": {},
   "outputs": [
    {
     "name": "stdout",
     "output_type": "stream",
     "text": [
      "Cluster 0:\n",
      "{'ensemble_membership': array([1, 1, 1, 1, 1, 1, 1, 1, 1, 1, 1, 1, 1, 1, 3])}\n",
      "Cluster 1:\n",
      "{'ensemble_membership': array([1, 1, 1, 1, 1, 1, 1, 1, 1, 1, 1, 1, 1, 1, 1, 1, 1, 1, 1, 1, 1, 1,\n",
      "       1, 1, 1, 1, 1, 1, 1, 2, 3, 3])}\n",
      "Cluster 2:\n",
      "{'ensemble_membership': array([1, 1, 1, 3, 3, 3, 3, 3])}\n",
      "Cluster 3:\n",
      "{'ensemble_membership': array([1, 1, 1, 1, 1, 1, 1, 1, 1])}\n",
      "Cluster 4:\n",
      "{'ensemble_membership': array([1, 1, 1, 1, 1, 1, 1, 1, 1, 1, 1, 1, 1, 1, 1, 1, 3])}\n",
      "Cluster 5:\n",
      "{'ensemble_membership': array([1, 1, 1, 1, 1, 1, 1, 1, 1, 1, 1, 1, 1, 1, 1, 1, 1, 1, 1, 1, 1, 1,\n",
      "       1, 3])}\n",
      "Cluster 6:\n",
      "{'ensemble_membership': array([1, 1, 1, 1, 1, 1, 1, 1, 1, 3, 3, 3, 3, 3, 3, 3, 3, 3, 3, 3, 3, 3,\n",
      "       3, 3])}\n",
      "Cluster 7:\n",
      "{'ensemble_membership': array([1, 1, 1, 1, 1, 1, 1, 1, 1, 1, 1, 1, 1, 1, 1, 1, 1, 1, 1, 1, 1, 1,\n",
      "       1, 1, 1, 1, 1, 1, 1])}\n",
      "Cluster 8:\n",
      "{'ensemble_membership': array([1, 1, 1, 1, 1, 1, 1, 1, 1, 1, 1, 1, 1, 1, 1, 1, 3])}\n",
      "Cluster 9:\n",
      "{'ensemble_membership': array([1, 1, 1, 1, 1, 1, 1, 1, 1, 1, 1, 1, 3, 3, 3, 3, 3, 3, 3])}\n",
      "Cluster 10:\n",
      "{'ensemble_membership': array([1, 1, 1, 1, 1, 1, 1, 1, 1, 1, 1, 1, 1, 1, 1, 1, 1, 1, 1, 3, 3, 3,\n",
      "       3, 3, 3, 3])}\n",
      "Cluster 11:\n",
      "{'ensemble_membership': array([1, 1, 1, 1, 1, 1, 1, 1, 1, 1, 1, 1, 1, 1, 1, 1, 1, 1, 1, 1, 1, 1,\n",
      "       1, 1, 1, 1, 1, 1, 1, 1, 3, 3])}\n",
      "Cluster 12:\n",
      "{'ensemble_membership': array([1, 1, 1, 1, 1, 1, 1, 1, 1, 1, 1, 1, 1, 1, 1, 1, 1, 1, 1, 1, 1, 1,\n",
      "       1, 1, 1, 1, 1, 1, 1, 1, 1, 1, 3])}\n",
      "Cluster 13:\n",
      "{'ensemble_membership': array([1, 1, 1, 1, 1, 1, 1, 1, 1, 1, 1, 1, 1, 1, 1, 1, 1, 1, 1, 1, 1, 1,\n",
      "       3])}\n",
      "Cluster 14:\n",
      "{'ensemble_membership': array([1, 1, 1, 1, 1, 1, 1, 1, 1, 1, 1, 1, 1, 1, 1, 1, 1, 1, 1, 1, 1, 1,\n",
      "       1, 3, 3, 3, 3])}\n",
      "Cluster 15:\n",
      "{'ensemble_membership': array([1, 1, 1, 1, 1, 1, 1, 1, 1, 1, 1, 1, 1, 1, 1, 1, 1, 1, 1, 1, 1, 1,\n",
      "       1])}\n",
      "Cluster 16:\n",
      "{'ensemble_membership': array([1, 1, 1, 1, 1, 1, 1, 1, 1, 1, 1])}\n",
      "Cluster 17:\n",
      "{'ensemble_membership': array([1, 1, 1, 1, 1, 1, 1, 1, 1, 1, 1, 1, 1, 1, 1, 1, 1, 1, 1])}\n",
      "Cluster 18:\n",
      "{'ensemble_membership': array([1, 1, 1, 1, 1, 1, 1, 1, 1, 1, 1, 1, 1, 1, 1, 1, 1, 1, 1, 1, 1])}\n",
      "Cluster 19:\n",
      "{'ensemble_membership': array([1, 1, 1, 1, 1, 1, 1, 1, 1, 1, 1, 1])}\n",
      "Cluster 20:\n",
      "{'ensemble_membership': array([1, 1, 1, 1, 1, 1])}\n",
      "Cluster 21:\n",
      "{'ensemble_membership': array([1, 1, 1, 1, 1, 1, 1, 1, 1, 1, 1, 1, 1, 1, 1, 1, 1, 1, 1])}\n",
      "Cluster 22:\n",
      "{'ensemble_membership': array([1, 1, 1, 1, 1, 1, 1, 1, 1, 1, 1, 1, 1, 1, 1, 1, 1, 3, 3])}\n",
      "Cluster 23:\n",
      "{'ensemble_membership': array([1, 1, 1, 1, 1, 1, 1, 1, 1, 1, 1, 1, 1, 1])}\n",
      "Cluster 24:\n",
      "{'ensemble_membership': array([1, 1, 1, 1, 1, 1, 1, 1, 1, 1, 1, 3])}\n",
      "Cluster 25:\n",
      "{'ensemble_membership': array([3, 3, 3, 3, 3, 3, 3, 3, 3, 3, 3, 3, 3, 3, 3, 3, 3])}\n",
      "Cluster 26:\n",
      "{'ensemble_membership': array([3, 3, 3, 3, 3, 3, 3, 4])}\n",
      "Cluster 27:\n",
      "{'ensemble_membership': array([3, 3, 3, 3, 3, 3, 3, 3, 3, 3, 3, 3])}\n",
      "Cluster 28:\n",
      "{'ensemble_membership': array([3, 3, 3, 3, 3, 3, 3, 3, 3, 3, 3, 3, 3, 3, 3, 3, 3, 3])}\n",
      "Cluster 29:\n",
      "{'ensemble_membership': array([1, 1, 1, 1, 1, 1, 1, 1, 1, 1, 1, 3, 3, 3, 3, 3, 3])}\n",
      "Cluster 30:\n",
      "{'ensemble_membership': array([3, 3, 3, 3, 3, 3, 3, 3, 3, 3, 3, 3, 3, 3, 3])}\n",
      "Cluster 31:\n",
      "{'ensemble_membership': array([1, 1, 3, 3, 3, 3, 3, 3, 3, 3, 3, 3, 3, 3, 3, 3, 3, 3, 3, 3])}\n",
      "Cluster 32:\n",
      "{'ensemble_membership': array([1, 3, 3, 3, 3, 3, 3, 3, 3, 3, 3, 3, 3, 3, 3, 3, 3, 3, 3, 3, 3, 3,\n",
      "       3, 3, 3])}\n",
      "Cluster 33:\n",
      "{'ensemble_membership': array([1, 3, 3, 3, 3, 3, 3, 3, 3, 3, 3, 3, 3, 3, 3, 3])}\n",
      "Cluster 34:\n",
      "{'ensemble_membership': array([1, 1, 3, 3, 3, 3, 3, 3, 3, 3, 3, 3, 3, 3, 3, 3, 3, 3, 3, 3])}\n",
      "Cluster 35:\n",
      "{'ensemble_membership': array([3, 3, 3, 3, 3, 3, 3, 3, 3, 3, 3, 3, 3, 3, 3])}\n",
      "Cluster 36:\n",
      "{'ensemble_membership': array([3, 3, 3, 3, 3, 3, 3, 3, 3, 3, 3, 3, 3, 3, 3, 3, 3, 3, 3, 3])}\n",
      "Cluster 37:\n",
      "{'ensemble_membership': array([1, 3, 3, 3, 3, 3, 3, 3, 3, 3, 3, 3, 3, 3, 3, 3, 3, 3, 3, 3])}\n",
      "Cluster 38:\n",
      "{'ensemble_membership': array([1, 1, 3, 3, 3, 3, 3, 3, 3, 3, 3, 3, 3])}\n",
      "Cluster 39:\n",
      "{'ensemble_membership': array([1, 1, 1, 1, 1, 3, 3, 3, 3, 3, 3, 3, 3, 3, 3])}\n",
      "Cluster 40:\n",
      "{'ensemble_membership': array([1, 1, 1, 3, 3, 3, 3, 3, 3, 3, 3, 3, 3, 3, 3, 3, 3, 3, 3, 3, 3, 3,\n",
      "       3, 3, 3, 3, 3, 3, 3, 3, 3])}\n",
      "Cluster 41:\n",
      "{'ensemble_membership': array([1, 1, 1, 1, 1, 1, 1, 1, 3, 3, 3, 3, 3, 3, 3, 3, 3, 3, 3, 3, 3, 3,\n",
      "       3, 3, 3])}\n",
      "Cluster 42:\n",
      "{'ensemble_membership': array([1, 1, 3, 3, 3, 3, 3, 3, 3, 3, 3, 3, 3, 3, 3, 3, 3, 3, 3, 3, 3, 3,\n",
      "       3])}\n",
      "Cluster 43:\n",
      "{'ensemble_membership': array([3, 3, 3, 3, 3, 3, 3, 3, 3, 3, 3, 3, 3, 3, 3, 3, 4, 4, 4])}\n",
      "Cluster 44:\n",
      "{'ensemble_membership': array([3, 3, 3, 3, 3, 3, 3, 3, 3, 3, 3, 3, 3, 3, 3, 4, 4])}\n",
      "Cluster 45:\n",
      "{'ensemble_membership': array([3, 3, 3, 3, 3, 3, 3, 3, 3, 3, 3, 3, 3, 3, 3, 3, 3, 3, 3, 3, 3, 3,\n",
      "       3, 3, 3, 3, 3, 3, 3, 3, 3, 4])}\n",
      "Cluster 46:\n",
      "{'ensemble_membership': array([1, 3, 3, 3, 3, 3, 3, 3, 3, 3, 3, 3, 3, 3, 3, 3, 3, 3, 3, 3, 3, 3,\n",
      "       3])}\n",
      "Cluster 47:\n",
      "{'ensemble_membership': array([1, 1, 1, 1, 1, 1, 1, 1, 1, 1, 1, 1, 1, 1, 1, 1, 1, 1, 3, 3, 3, 3,\n",
      "       3, 3, 3, 3, 3, 3, 3, 3, 3, 3, 3, 3, 3, 3, 3, 3, 3, 3])}\n",
      "Cluster 48:\n",
      "{'ensemble_membership': array([1, 1, 3, 3, 3, 3, 3, 3, 3, 3, 3, 3, 3, 3, 3, 3])}\n",
      "Cluster 49:\n",
      "{'ensemble_membership': array([1, 3, 3, 3, 3, 3, 3, 3, 3, 3, 3, 3, 3, 3, 3, 3, 3, 3, 3, 3, 3, 3,\n",
      "       3])}\n",
      "Cluster 50:\n",
      "{'ensemble_membership': array([3, 3, 3, 3, 3, 3, 3, 3, 3, 3, 3, 3, 3, 3, 3, 3, 3])}\n",
      "Cluster 51:\n",
      "{'ensemble_membership': array([1, 1, 4, 4, 4, 4, 4])}\n",
      "Cluster 52:\n",
      "{'ensemble_membership': array([4, 4, 4, 4, 4, 4, 4, 4, 4, 4, 4])}\n",
      "Cluster 53:\n",
      "{'ensemble_membership': array([4, 4, 4, 4, 4, 4, 4, 4, 4, 4, 4, 4, 4, 4, 4, 4, 4])}\n",
      "Cluster 54:\n",
      "{'ensemble_membership': array([4, 4, 4, 4, 4, 4, 4, 4])}\n",
      "Cluster 55:\n",
      "{'ensemble_membership': array([4, 4, 4, 4, 4, 4, 4, 4, 4, 4, 4, 4, 4, 4, 4])}\n",
      "Cluster 56:\n",
      "{'ensemble_membership': array([4, 4, 4, 4, 4, 4, 4, 4, 4, 4, 4, 4, 4, 4, 4])}\n",
      "Cluster 57:\n",
      "{'ensemble_membership': array([4, 4, 4, 4, 4, 4, 4, 4, 4, 4, 4, 4])}\n",
      "Cluster 58:\n",
      "{'ensemble_membership': array([4, 4, 4, 4, 4, 4, 4, 4, 4, 4, 4, 4, 4, 4, 4, 4, 4, 4])}\n",
      "Cluster 59:\n",
      "{'ensemble_membership': array([4, 4, 4, 4, 4, 4, 4, 4, 4, 4, 4])}\n",
      "Cluster 60:\n",
      "{'ensemble_membership': array([4, 4, 4, 4, 4, 4, 4, 4, 4, 4, 4, 4, 4, 4, 4, 4, 4, 4])}\n",
      "Cluster 61:\n",
      "{'ensemble_membership': array([4, 4, 4, 4, 4, 4, 4, 4, 4, 4, 4, 4, 4, 4, 4, 4, 4, 4, 4, 4, 4, 4])}\n",
      "Cluster 62:\n",
      "{'ensemble_membership': array([4, 4, 4, 4, 4, 4, 4, 4, 4, 4, 4, 4, 4, 4, 4, 4, 4, 4, 4, 4, 4, 4,\n",
      "       4, 4, 4, 4, 4, 4, 4, 4, 4, 4, 4])}\n",
      "Cluster 63:\n",
      "{'ensemble_membership': array([4, 4, 4, 4, 4, 4, 4, 4, 4, 4, 4, 4, 4, 4, 4, 4, 4])}\n",
      "Cluster 64:\n",
      "{'ensemble_membership': array([4, 4, 4, 4, 4, 4, 4, 4, 4, 4, 4, 4, 4, 4, 4, 4, 4, 4, 4, 4, 4, 4,\n",
      "       4, 4, 4, 4, 4, 4, 4])}\n",
      "Cluster 65:\n",
      "{'ensemble_membership': array([4, 4, 4, 4, 4, 4, 4, 4, 4, 4, 4, 4, 4, 4, 4, 4, 4, 4, 4, 4, 4, 4,\n",
      "       4, 4, 4, 4, 4, 4, 4, 4])}\n",
      "Cluster 66:\n",
      "{'ensemble_membership': array([4, 4, 4, 4, 4, 4, 4, 4, 4, 4, 4, 4, 4, 4, 4, 4, 4, 4, 4])}\n",
      "Cluster 67:\n",
      "{'ensemble_membership': array([4, 4, 4, 4, 4, 4, 4, 4, 4, 4, 4, 4, 4, 4, 4, 4, 4, 4, 4, 4, 4, 4,\n",
      "       4, 4, 4, 4])}\n",
      "Cluster 68:\n",
      "{'ensemble_membership': array([4, 4, 4, 4, 4, 4, 4, 4, 4, 4, 4, 4, 4, 4, 4, 4, 4, 4, 4, 4, 4, 4])}\n",
      "Cluster 69:\n",
      "{'ensemble_membership': array([4, 4, 4, 4, 4, 4, 4, 4, 4, 4, 4, 4, 4, 4, 4, 4, 4, 4, 4, 4, 4])}\n",
      "Cluster 70:\n",
      "{'ensemble_membership': array([4, 4, 4, 4, 4, 4, 4, 4, 4, 4, 4, 4, 4, 4, 4, 4, 4, 4, 4])}\n",
      "Cluster 71:\n",
      "{'ensemble_membership': array([4, 4, 4, 4, 4, 4, 4, 4, 4, 4, 4, 4, 4, 4, 4, 4, 4, 4, 4, 4, 4, 4,\n",
      "       4])}\n",
      "Cluster 72:\n",
      "{'ensemble_membership': array([4, 4, 4, 4, 4, 4, 4, 4, 4, 4, 4, 4, 4, 4, 4, 4, 4])}\n",
      "Cluster 73:\n",
      "{'ensemble_membership': array([4, 4, 4, 4, 4, 4, 4, 4, 4, 4, 4, 4, 4])}\n",
      "Cluster 74:\n",
      "{'ensemble_membership': array([4, 4, 4, 4, 4, 4, 4, 4, 4, 4, 4, 4, 4, 4, 4, 4, 4])}\n",
      "Cluster 75:\n",
      "{'ensemble_membership': array([4, 4, 4, 4, 4, 4, 4, 4, 4, 4, 4, 4, 4, 4, 4])}\n",
      "Cluster 76:\n",
      "{'ensemble_membership': array([4, 4, 4, 4, 4, 4, 4, 4, 4, 4, 4, 4, 4, 4, 4, 4, 4, 4, 4, 4, 4, 4,\n",
      "       4, 4, 4, 4, 4, 4, 4, 4, 4, 4, 4, 4, 4, 4, 4, 4, 4, 4, 4])}\n"
     ]
    }
   ],
   "source": [
    "# Print the cluster membership\n",
    "for i, cluster in enumerate(cluster_collection):\n",
    "    print(f\"Cluster {i}:\")\n",
    "    print(cluster.metadata)\n",
    "    print(cluster.metadata[\"ensemble_membership\"].shape)\n"
   ]
  },
  {
   "cell_type": "code",
   "execution_count": 5,
   "id": "694d1d1a",
   "metadata": {},
   "outputs": [
    {
     "data": {
      "text/plain": [
       "<ClusterCollection with 77 clusters>"
      ]
     },
     "execution_count": 5,
     "metadata": {},
     "output_type": "execute_result"
    }
   ],
   "source": [
    "cluster_collection"
   ]
  },
  {
   "cell_type": "code",
   "execution_count": null,
   "id": "aee2f970",
   "metadata": {},
   "outputs": [],
   "source": [
    "cluster_collection.metadata"
   ]
  },
  {
   "cell_type": "code",
   "execution_count": 9,
   "id": "d7107c0a",
   "metadata": {},
   "outputs": [
    {
     "data": {
      "text/plain": [
       "mdaencore.clustering.ClusterCollection.ClusterCollection"
      ]
     },
     "execution_count": 9,
     "metadata": {},
     "output_type": "execute_result"
    }
   ],
   "source": [
    "type(cluster_collection)"
   ]
  },
  {
   "cell_type": "code",
   "execution_count": 17,
   "id": "98b70f47",
   "metadata": {},
   "outputs": [
    {
     "name": "stdout",
     "output_type": "stream",
     "text": [
      "Cluster 0:\n",
      "Metadata: {'ensemble_membership': array([1, 1, 1, 1, 1, 1, 1, 1, 1, 1, 1, 1, 1, 1, 3])}\n",
      "elements: [  1   9  22  32  60  65  70  73  78  90 120 124 165 369 912]\n",
      "ID: 0\n",
      "Centroid: 73\n",
      "Cluster 1:\n",
      "Metadata: {'ensemble_membership': array([1, 1, 1, 1, 1, 1, 1, 1, 1, 1, 1, 1, 1, 1, 1, 1, 1, 1, 1, 1, 1, 1,\n",
      "       1, 1, 1, 1, 1, 1, 1, 2, 3, 3])}\n",
      "elements: [  2  19  27  39  40  47  59  68  69  72  75  76  84  91  95  97 106 108\n",
      " 110 178 213 224 239 242 250 270 284 306 334 501 510 858]\n",
      "ID: 1\n",
      "Centroid: 110\n",
      "Cluster 2:\n",
      "Metadata: {'ensemble_membership': array([1, 1, 1, 3, 3, 3, 3, 3])}\n",
      "elements: [ 17  37 128 666 697 698 705 772]\n",
      "ID: 2\n",
      "Centroid: 128\n",
      "Cluster 3:\n",
      "Metadata: {'ensemble_membership': array([1, 1, 1, 1, 1, 1, 1, 1, 1])}\n",
      "elements: [130 319 415 416 417 471 485 490 492]\n",
      "ID: 3\n",
      "Centroid: 130\n",
      "Cluster 4:\n",
      "Metadata: {'ensemble_membership': array([1, 1, 1, 1, 1, 1, 1, 1, 1, 1, 1, 1, 1, 1, 1, 1, 3])}\n",
      "elements: [ 99 147 155 181 188 203 206 210 218 248 292 329 330 360 377 389 877]\n",
      "ID: 4\n",
      "Centroid: 147\n"
     ]
    }
   ],
   "source": [
    "# Print the cluster membership\n",
    "for i, cluster in enumerate(cluster_collection):\n",
    "    if i<5:\n",
    "        print(f\"Cluster {i}:\")\n",
    "        print('Metadata:',cluster.metadata)\n",
    "        print('elements:',cluster.elements)\n",
    "        print('ID:',cluster.id)\n",
    "        print('Centroid:',cluster.centroid)\n"
   ]
  },
  {
   "cell_type": "code",
   "execution_count": 21,
   "id": "c8c00dcb",
   "metadata": {},
   "outputs": [],
   "source": [
    "cm = encore.DBSCAN(eps=0.5, min_samples=5, algorithm='auto', leaf_size=30)"
   ]
  },
  {
   "cell_type": "code",
   "execution_count": null,
   "id": "b5b5c77d",
   "metadata": {},
   "outputs": [
    {
     "name": "stderr",
     "output_type": "stream",
     "text": [
      "2025-04-27 17:00:46,993 - INFO - Gromacs version   : b'VERSION 2021.4'\n",
      "2025-04-27 17:00:46,994 - INFO - tpx version       : 122\n",
      "2025-04-27 17:00:46,994 - INFO - tpx generation    : 28\n",
      "2025-04-27 17:00:46,994 - INFO - tpx precision     : 4\n",
      "2025-04-27 17:00:46,995 - INFO - tpx file_tag      : b'release'\n",
      "2025-04-27 17:00:46,995 - INFO - tpx natoms        : 64578\n",
      "2025-04-27 17:00:46,995 - INFO - tpx ngtc          : 2\n",
      "2025-04-27 17:00:46,995 - INFO - tpx fep_state     : 0\n",
      "2025-04-27 17:00:46,996 - INFO - tpx lambda        : 0.0\n",
      "2025-04-27 17:00:47,513 - INFO - The attribute(s) masses, types have already been read from the topology file. The guesser will only guess empty values for this attribute, if any exists. To overwrite it by completely guessed values, you can pass the attribute to the force_guess parameter instead of the to_guess one\n",
      "2025-04-27 17:00:47,515 - INFO - There is no empty types values. Guesser did not guess any new values for types attribute\n",
      "2025-04-27 17:00:47,515 - INFO - There is no empty masses values. Guesser did not guess any new values for masses attribute\n",
      "2025-04-27 17:00:47,515 - INFO -         Perform pairwise alignment: True\n",
      "2025-04-27 17:00:47,516 - INFO -         weighted alignment and RMSD: Mass\n",
      "2025-04-27 17:00:47,516 - INFO -         Atoms subset for alignment: resname unk\n",
      "2025-04-27 17:00:47,516 - INFO -     Calculating similarity matrix . . .\n",
      "2025-04-27 17:02:45,554 - INFO -     Done!\n",
      "2025-04-27 17:02:45,555 - INFO - Starting DBSCAN: {'algorithm': 'auto', 'eps': 0.5, 'leaf_size': 30, 'metric': 'precomputed', 'metric_params': None, 'min_samples': 5, 'n_jobs': None, 'p': None}\n"
     ]
    },
    {
     "name": "stdout",
     "output_type": "stream",
     "text": [
      "<ClusterCollection with 2 clusters>\n"
     ]
    }
   ],
   "source": [
    "# Using the flow\n",
    "sel = \"resname unk\"\n",
    "cluster_collection = encore.cluster(\n",
    "    ensembles=universe_list, select=sel, superimposition_subset=sel, method=cm\n",
    ")\n",
    "\n",
    "print(cluster_collection)"
   ]
  },
  {
   "cell_type": "code",
   "execution_count": 25,
   "id": "27a811aa",
   "metadata": {},
   "outputs": [
    {
     "name": "stdout",
     "output_type": "stream",
     "text": [
      "Cluster 0:\n",
      "Metadata: {'ensemble_membership': array([1, 1, 1, ..., 4, 4, 4], shape=(1498,))}\n",
      "Unique Memebers: [1 2 3 4]\n",
      "elements: [   0    1    2 ... 1501 1502 1503]\n",
      "ID: 0\n",
      "Centroid: 0\n",
      "Cluster 1:\n",
      "Metadata: {'ensemble_membership': array([4, 4, 4, 4, 4, 4])}\n",
      "Unique Memebers: [4]\n",
      "elements: [1085 1091 1092 1094 1102 1112]\n",
      "ID: 1\n",
      "Centroid: 1085\n"
     ]
    }
   ],
   "source": [
    "import numpy as np\n",
    "# Print the cluster membership\n",
    "for i, cluster in enumerate(cluster_collection):\n",
    "    print(f\"Cluster {i}:\")\n",
    "    print('Metadata:',cluster.metadata)\n",
    "    print('Unique Memebers:',np.unique(cluster.metadata['ensemble_membership']))\n",
    "    print('elements:',cluster.elements)\n",
    "    print('ID:',cluster.id)\n",
    "    print('Centroid:',cluster.centroid)\n"
   ]
  },
  {
   "cell_type": "code",
   "execution_count": 26,
   "id": "a3f453f3",
   "metadata": {},
   "outputs": [
    {
     "data": {
      "text/plain": [
       "['42922_van_1', '42922_nvt', '42922_van_2', '42922_van_3']"
      ]
     },
     "execution_count": 26,
     "metadata": {},
     "output_type": "execute_result"
    }
   ],
   "source": [
    "names_list"
   ]
  },
  {
   "cell_type": "code",
   "execution_count": null,
   "id": "a17e2349",
   "metadata": {},
   "outputs": [],
   "source": [
    "# Making a cluster list for every frame in the universe list\n",
    "for i, cluster in enumerate(cluster_collection):\n",
    "    print(f\"Cluster {i}:\")\n",
    "    print(cluster.metadata)\n",
    "    print(cluster.metadata[\"ensemble_membership\"].shape)\n",
    "    print(cluster.metadata[\"ensemble_membership\"])\n",
    "    print(cluster.metadata[\"ensemble_membership\"].shape[0])\n",
    "    print(cluster.metadata[\"ensemble_membership\"].shape[1])\n",
    "    print(cluster.metadata[\"ensemble_membership\"][0])\n",
    "    print(cluster.metadata[\"ensemble_membership\"][0].shape)"
   ]
  }
 ],
 "metadata": {
  "kernelspec": {
   "display_name": "fepa",
   "language": "python",
   "name": "python3"
  },
  "language_info": {
   "codemirror_mode": {
    "name": "ipython",
    "version": 3
   },
   "file_extension": ".py",
   "mimetype": "text/x-python",
   "name": "python",
   "nbconvert_exporter": "python",
   "pygments_lexer": "ipython3",
   "version": "3.10.0"
  }
 },
 "nbformat": 4,
 "nbformat_minor": 5
}
